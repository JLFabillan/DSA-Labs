{
 "cells": [
  {
   "cell_type": "markdown",
   "id": "99fee264",
   "metadata": {},
   "source": [
    "## LABORATORY 2 \n",
    "# John Luke P. Fabillan"
   ]
  },
  {
   "cell_type": "markdown",
   "id": "e6fa8055",
   "metadata": {},
   "source": [
    "1. Convert Celsius temperatures to Fahrenheit, only for temps above 0°C\n",
    "\n",
    "    Celsius: [-5, 0, 10, 25, 30, -2, 15, 35]\n",
    "\n",
    "    Fahrenheit (>0°C only): [50.0, 77.0, 86.0, 59.0, 95.0]"
   ]
  },
  {
   "cell_type": "code",
   "execution_count": null,
   "id": "1d765004",
   "metadata": {},
   "outputs": [
    {
     "name": "stdout",
     "output_type": "stream",
     "text": [
      "converted: [50.0, 77.0, 86.0, 59.0, 95.0]\n"
     ]
    }
   ],
   "source": [
    "celsius = [-5, 0, 10, 25, 30, -2, 15, 35]\n",
    "fahrenheit = [(c * 9/5) + 32 for c in celsius if c > 0]\n",
    "\n",
    "print(\"Converted:\", fahrenheit)\n"
   ]
  },
  {
   "cell_type": "markdown",
   "id": "797c6f52",
   "metadata": {},
   "source": [
    "2. Extract valid numeric grades and categorize them (passing graade is >=80)\n",
    "\n",
    "    Raw grades: ['85', 'invalid', '92', '78', '', '95', 'not_a_grade', '88']\n",
    "\n",
    "    Grade results: ['Pass', 'Pass', 'Fail', 'Pass',  'Pass']"
   ]
  },
  {
   "cell_type": "code",
   "execution_count": null,
   "id": "e435f07d",
   "metadata": {},
   "outputs": [
    {
     "name": "stdout",
     "output_type": "stream",
     "text": [
      "Results: ['Pass', 'Pass', 'Fail', 'Pass', 'Pass']\n"
     ]
    }
   ],
   "source": [
    "raw_grades = ['85', 'invalid', '92', '78', '', '95', 'not_a_grade', '88']\n",
    "results = [\n",
    "    \"Pass\" if int(g) >= 80 else \"Fail\"\n",
    "    for g in raw_grades if g.isdigit()\n",
    "]\n",
    "\n",
    "print(\"Results:\", results)\n"
   ]
  },
  {
   "cell_type": "markdown",
   "id": "4986fabb",
   "metadata": {},
   "source": [
    "3. Extract words longer than 4 characters and reverse them\n",
    "\n",
    "    Original: The quick brown fox jumps over the lazy dog\n",
    "\n",
    "    Reversed long words: ['kciuq', 'nworb', 'spmuj']"
   ]
  },
  {
   "cell_type": "code",
   "execution_count": null,
   "id": "98e18277",
   "metadata": {},
   "outputs": [
    {
     "name": "stdout",
     "output_type": "stream",
     "text": [
      "REVERSED LONG WORDS: ['kciuq', 'nworb', 'spmuj']\n"
     ]
    }
   ],
   "source": [
    "sentence = \"The quick brown fox jumps over the lazy dog\"\n",
    "reversed_lwords = [word[::-1] for word in sentence.split() if len(word) > 4]\n",
    "\n",
    "print(\"REVERSED LONG WORDS:\", reversed_lwords)\n"
   ]
  },
  {
   "cell_type": "markdown",
   "id": "5262a5a1",
   "metadata": {},
   "source": [
    "4.  Extract valid email addresses and get their domains\n",
    "\n",
    "    Emails: ['user@gmail.com', 'invalid-email', 'test@yahoo.com', 'bad@', 'admin@company.org', 'no-at-sign.com']\n",
    "\n",
    "    Valid domains: ['gmail.com', 'yahoo.com', 'company.org']"
   ]
  },
  {
   "cell_type": "code",
   "execution_count": 8,
   "id": "1da06026",
   "metadata": {},
   "outputs": [
    {
     "name": "stdout",
     "output_type": "stream",
     "text": [
      "DOMAINS WITH VALID EMAIL: ['gmail.com', 'yahoo.com', 'company.org']\n"
     ]
    }
   ],
   "source": [
    "emails = ['user@gmail.com', 'invalid-email', 'test@yahoo.com', 'bad@', 'admin@company.org', 'no-at-sign.com']\n",
    "valid_domains = [email.split(\"@\")[1] for email in emails if \"@\" in email and \".\" in email.split(\"@\")[-1]]\n",
    "\n",
    "print(\"DOMAINS WITH VALID EMAIL:\", valid_domains)\n"
   ]
  },
  {
   "cell_type": "markdown",
   "id": "d5f42b77",
   "metadata": {},
   "source": [
    "5. Find perfect squares that are also even, within range 1-100\n",
    "\n",
    "    Even perfect squares (1-100): [4, 16, 36, 64, 100]"
   ]
  },
  {
   "cell_type": "code",
   "execution_count": null,
   "id": "8419d5d8",
   "metadata": {},
   "outputs": [
    {
     "name": "stdout",
     "output_type": "stream",
     "text": [
      "EVEN PERFECT SQUARES (1-100): [4, 16, 36, 64, 100]\n"
     ]
    }
   ],
   "source": [
    "even_squares = [n**2 for n in range(1, 11) if (n**2) % 2 == 0]\n",
    "\n",
    "print(\"EVEN PERFECT SQUARES (1-100):\", even_squares)"
   ]
  }
 ],
 "metadata": {
  "kernelspec": {
   "display_name": "Python 3",
   "language": "python",
   "name": "python3"
  },
  "language_info": {
   "codemirror_mode": {
    "name": "ipython",
    "version": 3
   },
   "file_extension": ".py",
   "mimetype": "text/x-python",
   "name": "python",
   "nbconvert_exporter": "python",
   "pygments_lexer": "ipython3",
   "version": "3.13.2"
  }
 },
 "nbformat": 4,
 "nbformat_minor": 5
}
